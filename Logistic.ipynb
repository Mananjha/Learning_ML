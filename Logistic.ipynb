{
 "cells": [
  {
   "cell_type": "code",
   "execution_count": 1,
   "id": "3bd0ee4f-da43-4ae1-bb7f-267519ff1ec4",
   "metadata": {},
   "outputs": [],
   "source": [
    "import numpy as np\n",
    "import pandas as pd\n",
    "import matplotlib.pyplot as plt\n",
    "from sklearn.linear_model import LogisticRegression"
   ]
  },
  {
   "cell_type": "code",
   "execution_count": 2,
   "id": "3d6fceb1-4a7f-4302-a8ec-de8cca571621",
   "metadata": {},
   "outputs": [],
   "source": [
    "df = pd.read_csv('https://raw.githubusercontent.com/datasciencedojo/datasets/master/titanic.csv').dropna()"
   ]
  },
  {
   "cell_type": "code",
   "execution_count": 3,
   "id": "ea6c861a-d43d-4a09-8d54-26aa2e0805ad",
   "metadata": {},
   "outputs": [
    {
     "data": {
      "text/html": [
       "<div>\n",
       "<style scoped>\n",
       "    .dataframe tbody tr th:only-of-type {\n",
       "        vertical-align: middle;\n",
       "    }\n",
       "\n",
       "    .dataframe tbody tr th {\n",
       "        vertical-align: top;\n",
       "    }\n",
       "\n",
       "    .dataframe thead th {\n",
       "        text-align: right;\n",
       "    }\n",
       "</style>\n",
       "<table border=\"1\" class=\"dataframe\">\n",
       "  <thead>\n",
       "    <tr style=\"text-align: right;\">\n",
       "      <th></th>\n",
       "      <th>PassengerId</th>\n",
       "      <th>Survived</th>\n",
       "      <th>Pclass</th>\n",
       "      <th>Name</th>\n",
       "      <th>Sex</th>\n",
       "      <th>Age</th>\n",
       "      <th>SibSp</th>\n",
       "      <th>Parch</th>\n",
       "      <th>Ticket</th>\n",
       "      <th>Fare</th>\n",
       "      <th>Cabin</th>\n",
       "      <th>Embarked</th>\n",
       "    </tr>\n",
       "  </thead>\n",
       "  <tbody>\n",
       "    <tr>\n",
       "      <th>1</th>\n",
       "      <td>2</td>\n",
       "      <td>1</td>\n",
       "      <td>1</td>\n",
       "      <td>Cumings, Mrs. John Bradley (Florence Briggs Th...</td>\n",
       "      <td>female</td>\n",
       "      <td>38.0</td>\n",
       "      <td>1</td>\n",
       "      <td>0</td>\n",
       "      <td>PC 17599</td>\n",
       "      <td>71.2833</td>\n",
       "      <td>C85</td>\n",
       "      <td>C</td>\n",
       "    </tr>\n",
       "    <tr>\n",
       "      <th>3</th>\n",
       "      <td>4</td>\n",
       "      <td>1</td>\n",
       "      <td>1</td>\n",
       "      <td>Futrelle, Mrs. Jacques Heath (Lily May Peel)</td>\n",
       "      <td>female</td>\n",
       "      <td>35.0</td>\n",
       "      <td>1</td>\n",
       "      <td>0</td>\n",
       "      <td>113803</td>\n",
       "      <td>53.1000</td>\n",
       "      <td>C123</td>\n",
       "      <td>S</td>\n",
       "    </tr>\n",
       "    <tr>\n",
       "      <th>6</th>\n",
       "      <td>7</td>\n",
       "      <td>0</td>\n",
       "      <td>1</td>\n",
       "      <td>McCarthy, Mr. Timothy J</td>\n",
       "      <td>male</td>\n",
       "      <td>54.0</td>\n",
       "      <td>0</td>\n",
       "      <td>0</td>\n",
       "      <td>17463</td>\n",
       "      <td>51.8625</td>\n",
       "      <td>E46</td>\n",
       "      <td>S</td>\n",
       "    </tr>\n",
       "    <tr>\n",
       "      <th>10</th>\n",
       "      <td>11</td>\n",
       "      <td>1</td>\n",
       "      <td>3</td>\n",
       "      <td>Sandstrom, Miss. Marguerite Rut</td>\n",
       "      <td>female</td>\n",
       "      <td>4.0</td>\n",
       "      <td>1</td>\n",
       "      <td>1</td>\n",
       "      <td>PP 9549</td>\n",
       "      <td>16.7000</td>\n",
       "      <td>G6</td>\n",
       "      <td>S</td>\n",
       "    </tr>\n",
       "    <tr>\n",
       "      <th>11</th>\n",
       "      <td>12</td>\n",
       "      <td>1</td>\n",
       "      <td>1</td>\n",
       "      <td>Bonnell, Miss. Elizabeth</td>\n",
       "      <td>female</td>\n",
       "      <td>58.0</td>\n",
       "      <td>0</td>\n",
       "      <td>0</td>\n",
       "      <td>113783</td>\n",
       "      <td>26.5500</td>\n",
       "      <td>C103</td>\n",
       "      <td>S</td>\n",
       "    </tr>\n",
       "  </tbody>\n",
       "</table>\n",
       "</div>"
      ],
      "text/plain": [
       "    PassengerId  Survived  Pclass  \\\n",
       "1             2         1       1   \n",
       "3             4         1       1   \n",
       "6             7         0       1   \n",
       "10           11         1       3   \n",
       "11           12         1       1   \n",
       "\n",
       "                                                 Name     Sex   Age  SibSp  \\\n",
       "1   Cumings, Mrs. John Bradley (Florence Briggs Th...  female  38.0      1   \n",
       "3        Futrelle, Mrs. Jacques Heath (Lily May Peel)  female  35.0      1   \n",
       "6                             McCarthy, Mr. Timothy J    male  54.0      0   \n",
       "10                    Sandstrom, Miss. Marguerite Rut  female   4.0      1   \n",
       "11                           Bonnell, Miss. Elizabeth  female  58.0      0   \n",
       "\n",
       "    Parch    Ticket     Fare Cabin Embarked  \n",
       "1       0  PC 17599  71.2833   C85        C  \n",
       "3       0    113803  53.1000  C123        S  \n",
       "6       0     17463  51.8625   E46        S  \n",
       "10      1   PP 9549  16.7000    G6        S  \n",
       "11      0    113783  26.5500  C103        S  "
      ]
     },
     "execution_count": 3,
     "metadata": {},
     "output_type": "execute_result"
    }
   ],
   "source": [
    "df.head()"
   ]
  },
  {
   "cell_type": "code",
   "execution_count": 4,
   "id": "a8996b93-7f97-45b8-a630-6239c483b0d0",
   "metadata": {},
   "outputs": [],
   "source": [
    "X = df[['Age','Fare']]\n",
    "y = df['Survived']"
   ]
  },
  {
   "cell_type": "code",
   "execution_count": 9,
   "id": "6e54293b-0599-40aa-9778-7ade247f747b",
   "metadata": {},
   "outputs": [
    {
     "data": {
      "text/plain": [
       "1      1\n",
       "3      1\n",
       "6      0\n",
       "10     1\n",
       "11     1\n",
       "      ..\n",
       "871    1\n",
       "872    0\n",
       "879    1\n",
       "887    1\n",
       "889    1\n",
       "Name: Survived, Length: 183, dtype: int64"
      ]
     },
     "execution_count": 9,
     "metadata": {},
     "output_type": "execute_result"
    }
   ],
   "source": [
    "X \n",
    "y"
   ]
  },
  {
   "cell_type": "code",
   "execution_count": 13,
   "id": "984e44bb-8a8d-4ec0-91da-bba56119c26e",
   "metadata": {},
   "outputs": [
    {
     "data": {
      "text/plain": [
       "Text(0, 0.5, 'Log_odds')"
      ]
     },
     "execution_count": 13,
     "metadata": {},
     "output_type": "execute_result"
    },
    {
     "data": {
      "image/png": "[encoded data removed]",
      "text/plain": [
       "<Figure size 1200x500 with 2 Axes>"
      ]
     },
     "metadata": {},
     "output_type": "display_data"
    }
   ],
   "source": [
    "model = LogisticRegression()\n",
    "\n",
    "model.fit(X,y)\n",
    "\n",
    "predicted = model.predict_proba(X)[:,1]\n",
    "\n",
    "log_odds = np.log(predicted / (1 - predicted))\n",
    "\n",
    "fig, ax = plt.subplots(1,2, figsize=(12,5))\n",
    "\n",
    "#Plot Fare vs log-odds\n",
    "ax[0].scatter(x=X['Fare'].values,y=log_odds, color='blue')\n",
    "ax[0].set_xlabel(\"Fare\")\n",
    "ax[0].set_ylabel(\"Log-odds\")\n",
    "\n",
    "# Plot Age vs log-odds\n",
    "ax[1].scatter(x=X['Age'].values, y=log_odds, color='red')\n",
    "ax[1].set_xlabel(\"Age\")\n",
    "ax[1].set_ylabel(\"Log_odds\")"
   ]
  },
  {
   "cell_type": "code",
   "execution_count": 11,
   "id": "538610d1-8135-4e3b-a38b-a2f79dcbb561",
   "metadata": {},
   "outputs": [
    {
     "data": {
      "text/plain": [
       "array([0.66335477, 0.67039378, 0.50773804, 0.84023094, 0.44646974,\n",
       "       0.64121649, 0.70804939, 0.89473577, 0.57700532, 0.42125114,\n",
       "       0.61776974, 0.67868245, 0.70638496, 0.88060538, 0.58734059,\n",
       "       0.34462545, 0.76454485, 0.78683316, 0.56949925, 0.86978904,\n",
       "       0.65336253, 0.53380761, 0.76265339, 0.65453347, 0.76983698,\n",
       "       0.63306679, 0.77321446, 0.42732007, 0.46830051, 0.51941533,\n",
       "       0.86506335, 0.84987679, 0.57112534, 0.56907245, 0.84621975,\n",
       "       0.60868759, 0.7500973 , 0.713344  , 0.6803097 , 0.69736696,\n",
       "       0.63236508, 0.65402612, 0.67864884, 0.41172858, 0.735862  ,\n",
       "       0.55381209, 0.57796043, 0.57605374, 0.7406082 , 0.6324789 ,\n",
       "       0.45486454, 0.80745491, 0.62461766, 0.90763086, 0.72648861,\n",
       "       0.91079268, 0.82888278, 0.71157619, 0.77270653, 0.89779454,\n",
       "       0.78770456, 0.70414728, 0.73373625, 0.62473809, 0.80280898,\n",
       "       0.55883648, 0.73419088, 0.7267634 , 0.69670496, 0.57026742,\n",
       "       0.85434631, 0.87682547, 0.71815864, 0.76474675, 0.47857443,\n",
       "       0.76254936, 0.74541149, 0.83816804, 0.72099815, 0.79945472,\n",
       "       0.72122598, 0.71759122, 0.6527719 , 0.70038875, 0.54721534,\n",
       "       0.84938097, 0.63272219, 0.87299589, 0.50352654, 0.68635677,\n",
       "       0.58936626, 0.38621902, 0.53488159, 0.55584873, 0.72592987,\n",
       "       0.77219339, 0.70299585, 0.449671  , 0.4769406 , 0.53480886,\n",
       "       0.81294168, 0.82070752, 0.82379304, 0.63744977, 0.55129984,\n",
       "       0.63884955, 0.74141518, 0.60127705, 0.56123182, 0.76065616,\n",
       "       0.6787549 , 0.59797991, 0.83003569, 0.54819529, 0.66311189,\n",
       "       0.51620664, 0.63754474, 0.64097392, 0.69115919, 0.65048615,\n",
       "       0.80566101, 0.48262637, 0.55240698, 0.55703196, 0.7201188 ,\n",
       "       0.85215297, 0.61288012, 0.42613463, 0.78729515, 0.27267293,\n",
       "       0.67337788, 0.76254936, 0.58563796, 0.47321923, 0.53530271,\n",
       "       0.54271261, 0.7000058 , 0.92835366, 0.74853758, 0.88791616,\n",
       "       0.70430285, 0.61084037, 0.56829641, 0.88388463, 0.6456065 ,\n",
       "       0.58697972, 0.74750657, 0.56078254, 0.74851534, 0.78923924,\n",
       "       0.69395247, 0.72982308, 0.82821836, 0.93067732, 0.68574796,\n",
       "       0.88760892, 0.38747982, 0.78202114, 0.82801805, 0.71466734,\n",
       "       0.72099815, 0.56084771, 0.43894829, 0.74582638, 0.79648201,\n",
       "       0.69590172, 0.60517019, 0.52541119, 0.86249435, 0.58658755,\n",
       "       0.68587539, 0.56782949, 0.69567348, 0.66632499, 0.79044235,\n",
       "       0.50833521, 0.53424685, 0.69870612, 0.57005752, 0.64181311,\n",
       "       0.52214129, 0.76540701, 0.71794015])"
      ]
     },
     "execution_count": 11,
     "metadata": {},
     "output_type": "execute_result"
    }
   ],
   "source": [
    "predicted"
   ]
  },
  {
   "cell_type": "code",
   "execution_count": null,
   "id": "a9b8f593-0ded-49e8-89c1-4ae44c5b4d5e",
   "metadata": {},
   "outputs": [],
   "source": []
  }
 ],
 "metadata": {
  "kernelspec": {
   "display_name": "Python 3 (ipykernel)",
   "language": "python",
   "name": "python3"
  },
  "language_info": {
   "codemirror_mode": {
    "name": "ipython",
    "version": 3
   },
   "file_extension": ".py",
   "mimetype": "text/x-python",
   "name": "python",
   "nbconvert_exporter": "python",
   "pygments_lexer": "ipython3",
   "version": "3.11.4"
  }
 },
 "nbformat": 4,
 "nbformat_minor": 5
}
